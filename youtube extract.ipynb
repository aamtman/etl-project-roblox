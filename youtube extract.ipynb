{
 "cells": [
  {
   "cell_type": "code",
   "execution_count": 127,
   "metadata": {},
   "outputs": [],
   "source": [
    "#importing Libraries\n",
    "\n",
    "import warnings\n",
    "warnings.filterwarnings('ignore')\n",
    "import pandas as pd\n",
    "import matplotlib.pyplot as plt\n",
    "import requests\n",
    "import json\n",
    "from pprint import pprint\n",
    "import numpy as np\n",
    "import scipy.stats as st\n",
    "from config import g_key\n",
    "import datetime as dt\n",
    "import pymongo\n"
   ]
  },
  {
   "cell_type": "code",
   "execution_count": null,
   "metadata": {},
   "outputs": [],
   "source": []
  },
  {
   "cell_type": "code",
   "execution_count": 79,
   "metadata": {},
   "outputs": [
    {
     "name": "stdout",
     "output_type": "stream",
     "text": [
      "<Response [200]>\n"
     ]
    }
   ],
   "source": [
    "game_name = 'adopt me'\n",
    "keyword = f'learn roblox {game_name}'\n",
    "results_no = 5\n",
    "url1 = f\"https://youtube.googleapis.com/youtube/v3/search?part=snippet&maxResults={results_no}&q={keyword}&key={g_key}\"\n",
    "response = requests.get(url1)\n",
    "print(response)"
   ]
  },
  {
   "cell_type": "code",
   "execution_count": 80,
   "metadata": {
    "scrolled": false
   },
   "outputs": [
    {
     "name": "stdout",
     "output_type": "stream",
     "text": [
      "{'etag': 'WWzjswn23UQlRLCBwaI2ImN_zl8',\n",
      " 'items': [{'etag': 'aL-hP-QVObw9Yh4raNWb36kh-u8',\n",
      "            'id': {'kind': 'youtube#video', 'videoId': 'qK6utpbXdlo'},\n",
      "            'kind': 'youtube#searchResult',\n",
      "            'snippet': {'channelId': 'UCWYiqmHlLlJ5f6sHFXjvLow',\n",
      "                        'channelTitle': \"Chloe's Magical Tree\",\n",
      "                        'description': 'How to Play ROBLOX Adopt Me for '\n",
      "                                       \"Beginners. Yeah, I'll show you all my \"\n",
      "                                       'tips and tricks to get started in the '\n",
      "                                       \"ROBLOX adopt me game. And don't forget \"\n",
      "                                       'to check ...',\n",
      "                        'liveBroadcastContent': 'none',\n",
      "                        'publishTime': '2019-02-22T00:25:57Z',\n",
      "                        'publishedAt': '2019-02-22T00:25:57Z',\n",
      "                        'thumbnails': {'default': {'height': 90,\n",
      "                                                   'url': 'https://i.ytimg.com/vi/qK6utpbXdlo/default.jpg',\n",
      "                                                   'width': 120},\n",
      "                                       'high': {'height': 360,\n",
      "                                                'url': 'https://i.ytimg.com/vi/qK6utpbXdlo/hqdefault.jpg',\n",
      "                                                'width': 480},\n",
      "                                       'medium': {'height': 180,\n",
      "                                                  'url': 'https://i.ytimg.com/vi/qK6utpbXdlo/mqdefault.jpg',\n",
      "                                                  'width': 320}},\n",
      "                        'title': 'How to Play ROBLOX Adopt Me for Beginners'}},\n",
      "           {'etag': '4KAm6N8TYExdfjIXt7XkvRa-SIg',\n",
      "            'id': {'kind': 'youtube#video', 'videoId': 'xHEsYI58iQw'},\n",
      "            'kind': 'youtube#searchResult',\n",
      "            'snippet': {'channelId': 'UCM3Gm2F9sZIE1xe6tUqIuPg',\n",
      "                        'channelTitle': \"Mikaela's games\",\n",
      "                        'description': 'hi, hope this video is helpful All my '\n",
      "                                       'helpful adopt me videos in one '\n",
      "                                       'playlist ▷ '\n",
      "                                       'https://www.youtube.com/playlist?list=PLPNyPUXS85Fi98Vw83_ICUxCtxV33LslL '\n",
      "                                       '...',\n",
      "                        'liveBroadcastContent': 'none',\n",
      "                        'publishTime': '2020-02-15T18:20:20Z',\n",
      "                        'publishedAt': '2020-02-15T18:20:20Z',\n",
      "                        'thumbnails': {'default': {'height': 90,\n",
      "                                                   'url': 'https://i.ytimg.com/vi/xHEsYI58iQw/default.jpg',\n",
      "                                                   'width': 120},\n",
      "                                       'high': {'height': 360,\n",
      "                                                'url': 'https://i.ytimg.com/vi/xHEsYI58iQw/hqdefault.jpg',\n",
      "                                                'width': 480},\n",
      "                                       'medium': {'height': 180,\n",
      "                                                  'url': 'https://i.ytimg.com/vi/xHEsYI58iQw/mqdefault.jpg',\n",
      "                                                  'width': 320}},\n",
      "                        'title': 'Adopt Me Beginners Guide'}},\n",
      "           {'etag': 'd8hvaIu1jtR-HD7aHYZX_GI6RXk',\n",
      "            'id': {'kind': 'youtube#video', 'videoId': 'DuCnTRj3Ae4'},\n",
      "            'kind': 'youtube#searchResult',\n",
      "            'snippet': {'channelId': 'UCLr__22svLzzLQdhJ9TryvA',\n",
      "                        'channelTitle': \"Let's Do This Gaming\",\n",
      "                        'description': 'Adopt Me Pets Quick Start Guide - NOOB '\n",
      "                                       'to PRO and there is a massive ROBUX '\n",
      "                                       'Giveaway so be sure to watch the whole '\n",
      "                                       \"video for details. And don't forget to \"\n",
      "                                       '...',\n",
      "                        'liveBroadcastContent': 'none',\n",
      "                        'publishTime': '2019-06-15T20:58:47Z',\n",
      "                        'publishedAt': '2019-06-15T20:58:47Z',\n",
      "                        'thumbnails': {'default': {'height': 90,\n",
      "                                                   'url': 'https://i.ytimg.com/vi/DuCnTRj3Ae4/default.jpg',\n",
      "                                                   'width': 120},\n",
      "                                       'high': {'height': 360,\n",
      "                                                'url': 'https://i.ytimg.com/vi/DuCnTRj3Ae4/hqdefault.jpg',\n",
      "                                                'width': 480},\n",
      "                                       'medium': {'height': 180,\n",
      "                                                  'url': 'https://i.ytimg.com/vi/DuCnTRj3Ae4/mqdefault.jpg',\n",
      "                                                  'width': 320}},\n",
      "                        'title': 'Adopt Me Pets Update Quick Start Guide - '\n",
      "                                 'NOOB to PRO plus ROBUX Giveaway (ROBLOX)'}},\n",
      "           {'etag': 'w6LiJp0seclinJwI6oKXwunsG1c',\n",
      "            'id': {'kind': 'youtube#video', 'videoId': 'QA-bwmiePMo'},\n",
      "            'kind': 'youtube#searchResult',\n",
      "            'snippet': {'channelId': 'UCwwSHAjJb3E0GqMucvUU-FQ',\n",
      "                        'channelTitle': 'MeganPlays',\n",
      "                        'description': 'USE CODE \"MEGANPLAYS\" when buying '\n",
      "                                       \"Robux! ♡ Don't forget to subscribe for \"\n",
      "                                       'me + leave a comment, I read them ALL! '\n",
      "                                       '♡ I Played Adopt Me TRUTH or ...',\n",
      "                        'liveBroadcastContent': 'none',\n",
      "                        'publishTime': '2021-03-11T22:31:33Z',\n",
      "                        'publishedAt': '2021-03-11T22:31:33Z',\n",
      "                        'thumbnails': {'default': {'height': 90,\n",
      "                                                   'url': 'https://i.ytimg.com/vi/QA-bwmiePMo/default.jpg',\n",
      "                                                   'width': 120},\n",
      "                                       'high': {'height': 360,\n",
      "                                                'url': 'https://i.ytimg.com/vi/QA-bwmiePMo/hqdefault.jpg',\n",
      "                                                'width': 480},\n",
      "                                       'medium': {'height': 180,\n",
      "                                                  'url': 'https://i.ytimg.com/vi/QA-bwmiePMo/mqdefault.jpg',\n",
      "                                                  'width': 320}},\n",
      "                        'title': 'I Played Adopt Me TRUTH or DARE!! Roblox '\n",
      "                                 'Adopt Me'}},\n",
      "           {'etag': '_LI-4KPofObEiImMNCzjlxGGHgI',\n",
      "            'id': {'kind': 'youtube#video', 'videoId': 'WpjVug0zFEk'},\n",
      "            'kind': 'youtube#searchResult',\n",
      "            'snippet': {'channelId': 'UCfWT5StUokMoUIMtjkOuBGw',\n",
      "                        'channelTitle': 'Digito Plays',\n",
      "                        'description': 'HOW TO SCAM IN ROBLOX ADOPT ME - MAKE '\n",
      "                                       'SURE TO SUBSCRIBE, LIKE THE VIDEO, AND '\n",
      "                                       \"COMMENT if you'd like to support the \"\n",
      "                                       'channel! Roblox Group ...',\n",
      "                        'liveBroadcastContent': 'none',\n",
      "                        'publishTime': '2020-07-30T07:22:23Z',\n",
      "                        'publishedAt': '2020-07-30T07:22:23Z',\n",
      "                        'thumbnails': {'default': {'height': 90,\n",
      "                                                   'url': 'https://i.ytimg.com/vi/WpjVug0zFEk/default.jpg',\n",
      "                                                   'width': 120},\n",
      "                                       'high': {'height': 360,\n",
      "                                                'url': 'https://i.ytimg.com/vi/WpjVug0zFEk/hqdefault.jpg',\n",
      "                                                'width': 480},\n",
      "                                       'medium': {'height': 180,\n",
      "                                                  'url': 'https://i.ytimg.com/vi/WpjVug0zFEk/mqdefault.jpg',\n",
      "                                                  'width': 320}},\n",
      "                        'title': 'HOW TO SCAM IN ROBLOX ADOPT ME | Scammers '\n",
      "                                 'Guide'}}],\n",
      " 'kind': 'youtube#searchListResponse',\n",
      " 'nextPageToken': 'CAUQAA',\n",
      " 'pageInfo': {'resultsPerPage': 5, 'totalResults': 562784},\n",
      " 'regionCode': 'US'}\n"
     ]
    }
   ],
   "source": [
    "data = response.json()\n",
    "pprint(data)"
   ]
  },
  {
   "cell_type": "code",
   "execution_count": 122,
   "metadata": {},
   "outputs": [],
   "source": [
    "titles = []\n",
    "pub_time = []\n",
    "thumb_nail = []\n",
    "vid = []\n",
    "for i in range(5):\n",
    "    titles.append((data['items'][i]['snippet']['title']))\n",
    "    pub_time.append(data['items'][i]['snippet']['publishTime'].split('T')[0])\n",
    "    thumb_nail.append(data['items'][i]['snippet']['thumbnails']['default']['url'])\n",
    "    vid.append('https://www.youtube.com/watch?v=' + data['items'][i]['id']['videoId'])\n",
    "    \n"
   ]
  },
  {
   "cell_type": "code",
   "execution_count": 125,
   "metadata": {},
   "outputs": [],
   "source": [
    "video_df = pd.DataFrame({ 'Videos': titles, 'Video Thumbnails': thumb_nail, 'Video url': vid, 'Published on ': pub_time })"
   ]
  },
  {
   "cell_type": "code",
   "execution_count": 126,
   "metadata": {},
   "outputs": [
    {
     "data": {
      "text/html": [
       "<div>\n",
       "<style scoped>\n",
       "    .dataframe tbody tr th:only-of-type {\n",
       "        vertical-align: middle;\n",
       "    }\n",
       "\n",
       "    .dataframe tbody tr th {\n",
       "        vertical-align: top;\n",
       "    }\n",
       "\n",
       "    .dataframe thead th {\n",
       "        text-align: right;\n",
       "    }\n",
       "</style>\n",
       "<table border=\"1\" class=\"dataframe\">\n",
       "  <thead>\n",
       "    <tr style=\"text-align: right;\">\n",
       "      <th></th>\n",
       "      <th>Videos</th>\n",
       "      <th>Video Thumbnails</th>\n",
       "      <th>Video url</th>\n",
       "      <th>Published on</th>\n",
       "    </tr>\n",
       "  </thead>\n",
       "  <tbody>\n",
       "    <tr>\n",
       "      <th>0</th>\n",
       "      <td>How to Play ROBLOX Adopt Me for Beginners</td>\n",
       "      <td>https://i.ytimg.com/vi/qK6utpbXdlo/default.jpg</td>\n",
       "      <td>https://www.youtube.com/watch?v=qK6utpbXdlo</td>\n",
       "      <td>2019-02-22</td>\n",
       "    </tr>\n",
       "    <tr>\n",
       "      <th>1</th>\n",
       "      <td>Adopt Me Beginners Guide</td>\n",
       "      <td>https://i.ytimg.com/vi/xHEsYI58iQw/default.jpg</td>\n",
       "      <td>https://www.youtube.com/watch?v=xHEsYI58iQw</td>\n",
       "      <td>2020-02-15</td>\n",
       "    </tr>\n",
       "    <tr>\n",
       "      <th>2</th>\n",
       "      <td>Adopt Me Pets Update Quick Start Guide - NOOB ...</td>\n",
       "      <td>https://i.ytimg.com/vi/DuCnTRj3Ae4/default.jpg</td>\n",
       "      <td>https://www.youtube.com/watch?v=DuCnTRj3Ae4</td>\n",
       "      <td>2019-06-15</td>\n",
       "    </tr>\n",
       "    <tr>\n",
       "      <th>3</th>\n",
       "      <td>I Played Adopt Me TRUTH or DARE!! Roblox Adopt Me</td>\n",
       "      <td>https://i.ytimg.com/vi/QA-bwmiePMo/default.jpg</td>\n",
       "      <td>https://www.youtube.com/watch?v=QA-bwmiePMo</td>\n",
       "      <td>2021-03-11</td>\n",
       "    </tr>\n",
       "    <tr>\n",
       "      <th>4</th>\n",
       "      <td>HOW TO SCAM IN ROBLOX ADOPT ME | Scammers Guide</td>\n",
       "      <td>https://i.ytimg.com/vi/WpjVug0zFEk/default.jpg</td>\n",
       "      <td>https://www.youtube.com/watch?v=WpjVug0zFEk</td>\n",
       "      <td>2020-07-30</td>\n",
       "    </tr>\n",
       "  </tbody>\n",
       "</table>\n",
       "</div>"
      ],
      "text/plain": [
       "                                              Videos  \\\n",
       "0          How to Play ROBLOX Adopt Me for Beginners   \n",
       "1                           Adopt Me Beginners Guide   \n",
       "2  Adopt Me Pets Update Quick Start Guide - NOOB ...   \n",
       "3  I Played Adopt Me TRUTH or DARE!! Roblox Adopt Me   \n",
       "4    HOW TO SCAM IN ROBLOX ADOPT ME | Scammers Guide   \n",
       "\n",
       "                                 Video Thumbnails  \\\n",
       "0  https://i.ytimg.com/vi/qK6utpbXdlo/default.jpg   \n",
       "1  https://i.ytimg.com/vi/xHEsYI58iQw/default.jpg   \n",
       "2  https://i.ytimg.com/vi/DuCnTRj3Ae4/default.jpg   \n",
       "3  https://i.ytimg.com/vi/QA-bwmiePMo/default.jpg   \n",
       "4  https://i.ytimg.com/vi/WpjVug0zFEk/default.jpg   \n",
       "\n",
       "                                     Video url Published on   \n",
       "0  https://www.youtube.com/watch?v=qK6utpbXdlo    2019-02-22  \n",
       "1  https://www.youtube.com/watch?v=xHEsYI58iQw    2020-02-15  \n",
       "2  https://www.youtube.com/watch?v=DuCnTRj3Ae4    2019-06-15  \n",
       "3  https://www.youtube.com/watch?v=QA-bwmiePMo    2021-03-11  \n",
       "4  https://www.youtube.com/watch?v=WpjVug0zFEk    2020-07-30  "
      ]
     },
     "execution_count": 126,
     "metadata": {},
     "output_type": "execute_result"
    }
   ],
   "source": [
    "video_df"
   ]
  },
  {
   "cell_type": "code",
   "execution_count": 129,
   "metadata": {},
   "outputs": [],
   "source": [
    "conn = 'mongodb://localhost:27017'\n",
    "client = pymongo.MongoClient(conn)\n",
    "\n",
    "db = client.robloxdb"
   ]
  },
  {
   "cell_type": "code",
   "execution_count": 76,
   "metadata": {
    "scrolled": true
   },
   "outputs": [
    {
     "data": {
      "text/plain": [
       "'US'"
      ]
     },
     "execution_count": 76,
     "metadata": {},
     "output_type": "execute_result"
    }
   ],
   "source": []
  },
  {
   "cell_type": "code",
   "execution_count": null,
   "metadata": {},
   "outputs": [],
   "source": []
  }
 ],
 "metadata": {
  "kernelspec": {
   "display_name": "Python 3",
   "language": "python",
   "name": "python3"
  },
  "language_info": {
   "codemirror_mode": {
    "name": "ipython",
    "version": 3
   },
   "file_extension": ".py",
   "mimetype": "text/x-python",
   "name": "python",
   "nbconvert_exporter": "python",
   "pygments_lexer": "ipython3",
   "version": "3.8.5"
  }
 },
 "nbformat": 4,
 "nbformat_minor": 4
}
